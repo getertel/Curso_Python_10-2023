{
  "nbformat": 4,
  "nbformat_minor": 0,
  "metadata": {
    "colab": {
      "provenance": [],
      "include_colab_link": true
    },
    "kernelspec": {
      "name": "python3",
      "display_name": "Python 3"
    },
    "language_info": {
      "name": "python"
    }
  },
  "cells": [
    {
      "cell_type": "markdown",
      "metadata": {
        "id": "view-in-github",
        "colab_type": "text"
      },
      "source": [
        "<a href=\"https://colab.research.google.com/github/getertel/17-08/blob/main/Ocean_Tech_School_Python_2.ipynb\" target=\"_parent\"><img src=\"https://colab.research.google.com/assets/colab-badge.svg\" alt=\"Open In Colab\"/></a>"
      ]
    },
    {
      "cell_type": "markdown",
      "source": [
        "Primeiros passos em Python"
      ],
      "metadata": {
        "id": "C_FSaA7yCsho"
      }
    },
    {
      "cell_type": "code",
      "source": [
        "peso = 105\n",
        "altura = 1.9\n"
      ],
      "metadata": {
        "id": "xC3qXTLIBh0Q"
      },
      "execution_count": null,
      "outputs": []
    },
    {
      "cell_type": "code",
      "source": [
        "peso/(altura*altura)"
      ],
      "metadata": {
        "colab": {
          "base_uri": "https://localhost:8080/"
        },
        "id": "9EN91Uj7B7dX",
        "outputId": "4969bc1a-6b84-4341-ba4a-14444ac35906"
      },
      "execution_count": null,
      "outputs": [
        {
          "output_type": "execute_result",
          "data": {
            "text/plain": [
              "29.085872576177287"
            ]
          },
          "metadata": {},
          "execution_count": 7
        }
      ]
    },
    {
      "cell_type": "code",
      "execution_count": null,
      "metadata": {
        "colab": {
          "base_uri": "https://localhost:8080/"
        },
        "id": "j-YWnHfRCQoB",
        "outputId": "8999a6b1-eb73-475a-dce2-ba68b94250ef"
      },
      "outputs": [
        {
          "output_type": "stream",
          "name": "stdout",
          "text": [
            "Programa: Ocean     \n",
            "Edição: Tech School 2.0\n"
          ]
        }
      ],
      "source": [
        "name = \"Ocean\"#comentando codigo\n",
        "version = \"Tech School 2.0\"\n",
        "print(f\"Programa: {name:<10}\\nEdição: {version}\")"
      ]
    },
    {
      "cell_type": "markdown",
      "source": [],
      "metadata": {
        "id": "aYi9FZPvAOkK"
      }
    },
    {
      "cell_type": "code",
      "source": [
        "10/3"
      ],
      "metadata": {
        "colab": {
          "base_uri": "https://localhost:8080/"
        },
        "id": "LtAroaHLAPBw",
        "outputId": "e3885236-6e2e-4c33-f211-5d47477ff49c"
      },
      "execution_count": null,
      "outputs": [
        {
          "output_type": "execute_result",
          "data": {
            "text/plain": [
              "3.3333333333333335"
            ]
          },
          "metadata": {},
          "execution_count": 1
        }
      ]
    },
    {
      "cell_type": "code",
      "source": [
        "c = int(input(\"Digite um numero inteiro:\")) #pedido ao usuario 1\n",
        "print (c)\n",
        "print(type(c))\n",
        "b = str(input(\"Digite uma string:\")) #pedido ao usuario 2\n",
        "print (b)\n",
        "print(type(b)) #exibindo tipo da variavel"
      ],
      "metadata": {
        "colab": {
          "base_uri": "https://localhost:8080/"
        },
        "id": "hLDk78znD8Ok",
        "outputId": "58ed73d8-e05e-4a61-8748-8e3d30d18aa0"
      },
      "execution_count": null,
      "outputs": [
        {
          "output_type": "stream",
          "name": "stdout",
          "text": [
            "Digite um numero inteiro:23\n",
            "23\n",
            "<class 'int'>\n",
            "Digite uma string:rtyu7\n",
            "rtyu7\n",
            "<class 'str'>\n"
          ]
        }
      ]
    },
    {
      "cell_type": "markdown",
      "source": [
        "Variáveis"
      ],
      "metadata": {
        "id": "bPkbD44CGkiB"
      }
    },
    {
      "cell_type": "code",
      "source": [
        "nome  = \"Ana\"    # Atribuição de valor a variavel nome\n",
        "print(nome)\n",
        "\n",
        "numero = 7\n",
        "print(numero)\n",
        "\n",
        "numero_decimal  = 8.9\n",
        "print(numero_decimal)\n",
        "\n",
        "valor_logico = False\n",
        "print(valor_logico)\n",
        "print(type(valor_logico))"
      ],
      "metadata": {
        "colab": {
          "base_uri": "https://localhost:8080/"
        },
        "id": "88GGoV4PGjp4",
        "outputId": "a16f581a-5356-46c1-b8c2-d4e7e4e81895"
      },
      "execution_count": null,
      "outputs": [
        {
          "output_type": "stream",
          "name": "stdout",
          "text": [
            "Ana\n",
            "7\n",
            "8.9\n",
            "False\n",
            "<class 'bool'>\n"
          ]
        }
      ]
    },
    {
      "cell_type": "markdown",
      "source": [
        "**Exemplo_1: Construir um programa em que o usuário informa uma nota e esta é classificada nos graus A,B,C,D e E.**"
      ],
      "metadata": {
        "id": "hS5mMOfVHi_I"
      }
    },
    {
      "cell_type": "code",
      "source": [
        "nota = float(input(\"Digite a nota (0.0 a 10.0): \"))\n",
        "if 0.0 <= nota <= 10.0:\n",
        "            if nota >= 9.0:\n",
        "                print('A')\n",
        "            elif nota >= 7.5:\n",
        "                print('B')\n",
        "            elif nota >= 6.0:\n",
        "                print('C')\n",
        "            elif nota >= 5.0:\n",
        "                print('D')\n",
        "            else:\n",
        "                print('E')\n",
        "else:\n",
        "   print(\"Erro: A nota deve estar na faixa de 0.0 a 10.0\")"
      ],
      "metadata": {
        "colab": {
          "base_uri": "https://localhost:8080/"
        },
        "id": "LDrBP3iQHz3N",
        "outputId": "fd41997e-105a-4fc9-9dc9-7487afb5aaa8"
      },
      "execution_count": null,
      "outputs": [
        {
          "output_type": "stream",
          "name": "stdout",
          "text": [
            "Digite a nota (0.0 a 10.0): 450\n",
            "Erro: A nota deve estar na faixa de 0.0 a 10.0\n"
          ]
        }
      ]
    },
    {
      "cell_type": "markdown",
      "source": [
        "**Operadores aritméticos**"
      ],
      "metadata": {
        "id": "2TKhdyqrKh-f"
      }
    },
    {
      "cell_type": "code",
      "source": [
        "#print( 5 + 5)   #soma\n",
        "#print( 5 - 5)   #subtração\n",
        "#print( 5 * 5)   #multiplicação\n",
        "#print( 5 / 5)   #divisão\n",
        "#print( 5 ** 5)   #potenciação\n",
        "#print(10 % 5)     #resto da divisão\n",
        "#print( 14 // 5)   # Divisão que sempre retornará um numero inteiro"
      ],
      "metadata": {
        "id": "1t-GJB66Knvf"
      },
      "execution_count": null,
      "outputs": []
    },
    {
      "cell_type": "code",
      "source": [
        "saudacao = \"Bom dia, \"\n",
        "nome = \"João\""
      ],
      "metadata": {
        "id": "HIzFWGU5D4K3"
      },
      "execution_count": null,
      "outputs": []
    },
    {
      "cell_type": "code",
      "source": [
        "nome + saudacao"
      ],
      "metadata": {
        "colab": {
          "base_uri": "https://localhost:8080/",
          "height": 35
        },
        "id": "DEsC-LtjEISy",
        "outputId": "93bab785-34f7-4ce6-a408-bdc18e72647a"
      },
      "execution_count": null,
      "outputs": [
        {
          "output_type": "execute_result",
          "data": {
            "text/plain": [
              "'JoãoBom dia, '"
            ],
            "application/vnd.google.colaboratory.intrinsic+json": {
              "type": "string"
            }
          },
          "metadata": {},
          "execution_count": 11
        }
      ]
    },
    {
      "cell_type": "markdown",
      "source": [
        "**Exemplo_2: Construir um programa em que o usuário digita um número inteiro e obtenha a classificação em par ou ímpar.**"
      ],
      "metadata": {
        "id": "vix4q7OBLksl"
      }
    },
    {
      "cell_type": "code",
      "source": [
        "num = int(input(\"Digite um numero inteiro: \"))\n",
        "\n",
        "if num % 2 == 0:\n",
        "    print(f'O número {num} é par.')\n",
        "else:\n",
        "    print(f'O número {num} é ímpar.')\n"
      ],
      "metadata": {
        "colab": {
          "base_uri": "https://localhost:8080/"
        },
        "id": "ge1pFgZENFDB",
        "outputId": "59f439b6-0484-4aaf-ea3c-095e977a4aa6"
      },
      "execution_count": null,
      "outputs": [
        {
          "output_type": "stream",
          "name": "stdout",
          "text": [
            "Digite um numero inteiro: 58\n",
            "O número 58 é par.\n"
          ]
        }
      ]
    },
    {
      "cell_type": "markdown",
      "source": [
        "**Operadores de atribuição**"
      ],
      "metadata": {
        "id": "9jm3j1jDOwFq"
      }
    },
    {
      "cell_type": "code",
      "source": [
        "a = 1\n",
        "b = 5\n",
        "c = 9\n",
        "d = 7\n",
        "e = 2\n",
        "\n",
        "a+=5   # a  = a + 5\n",
        "print(a)\n",
        "b-=5  # b = b - 5\n",
        "print(b)\n",
        "c*=2  # c  = c * 2\n",
        "print(c)\n",
        "d/=7  # d  = d / 7\n",
        "print(d)\n",
        "e%=2 # e = e % 2\n",
        "print(e)"
      ],
      "metadata": {
        "colab": {
          "base_uri": "https://localhost:8080/"
        },
        "id": "0KEMUtS7Ozqw",
        "outputId": "735262af-31e3-4978-d14d-fd1efec754ab"
      },
      "execution_count": null,
      "outputs": [
        {
          "output_type": "stream",
          "name": "stdout",
          "text": [
            "6\n",
            "0\n",
            "18\n",
            "1.0\n",
            "0\n"
          ]
        }
      ]
    },
    {
      "cell_type": "code",
      "source": [],
      "metadata": {
        "id": "Sa3N6G2cNhgA"
      },
      "execution_count": null,
      "outputs": []
    },
    {
      "cell_type": "code",
      "source": [
        "## Exercicio Conversão de Celsius para Fahrenheit\n",
        "##  C * 9/5  + 32 = F\n",
        "\n",
        "# C = 0;   F = 32\n",
        "# C = 100; F = 212\n",
        "# C = -10; F = 14\n",
        "\n",
        "\n",
        "temperatura_celsius = float(input(\"Informe o valor da temperatura em Celsius: \"))\n",
        "temperatura_fahrenheit = temperatura_celsius * 9 / 5 + 32\n",
        "print(f\"O valor da temperatura em Fahreinheit : {temperatura_fahrenheit}ºC\")"
      ],
      "metadata": {
        "colab": {
          "base_uri": "https://localhost:8080/"
        },
        "id": "hG7CH4kzEfyf",
        "outputId": "35693b43-434a-4537-f532-913f172d9c39"
      },
      "execution_count": null,
      "outputs": [
        {
          "output_type": "stream",
          "name": "stdout",
          "text": [
            "Informe o valor da temperatura em Celsius: 100\n",
            "O valor da temperatura em Fahreinheit : 212.0ºC\n"
          ]
        }
      ]
    },
    {
      "cell_type": "code",
      "source": [
        "input(\"digite algo\")"
      ],
      "metadata": {
        "colab": {
          "base_uri": "https://localhost:8080/",
          "height": 52
        },
        "id": "s7YVafZkEggR",
        "outputId": "77096701-20aa-4e2f-b107-5b3a71243c6f"
      },
      "execution_count": null,
      "outputs": [
        {
          "name": "stdout",
          "output_type": "stream",
          "text": [
            "digite algo100\n"
          ]
        },
        {
          "output_type": "execute_result",
          "data": {
            "text/plain": [
              "'100'"
            ],
            "application/vnd.google.colaboratory.intrinsic+json": {
              "type": "string"
            }
          },
          "metadata": {},
          "execution_count": 18
        }
      ]
    },
    {
      "cell_type": "code",
      "source": [
        "float(\"100\")"
      ],
      "metadata": {
        "colab": {
          "base_uri": "https://localhost:8080/"
        },
        "id": "5bKNjThkEgjv",
        "outputId": "a9281740-fba5-4887-8bc4-93ec1e23ac10"
      },
      "execution_count": null,
      "outputs": [
        {
          "output_type": "execute_result",
          "data": {
            "text/plain": [
              "100.0"
            ]
          },
          "metadata": {},
          "execution_count": 21
        }
      ]
    },
    {
      "cell_type": "code",
      "source": [],
      "metadata": {
        "colab": {
          "base_uri": "https://localhost:8080/",
          "height": 35
        },
        "id": "xIejUlDJK715",
        "outputId": "1380a773-f458-4ef4-a53e-d4847e6616a6"
      },
      "execution_count": null,
      "outputs": [
        {
          "output_type": "execute_result",
          "data": {
            "text/plain": [
              "'5'"
            ],
            "application/vnd.google.colaboratory.intrinsic+json": {
              "type": "string"
            }
          },
          "metadata": {},
          "execution_count": 22
        }
      ]
    },
    {
      "cell_type": "code",
      "source": [
        "\n"
      ],
      "metadata": {
        "colab": {
          "base_uri": "https://localhost:8080/",
          "height": 176
        },
        "id": "jy9I9jhjLamr",
        "outputId": "f1d47b62-3417-433a-b44b-35967b04864a"
      },
      "execution_count": null,
      "outputs": [
        {
          "output_type": "error",
          "ename": "TypeError",
          "evalue": "ignored",
          "traceback": [
            "\u001b[0;31m---------------------------------------------------------------------------\u001b[0m",
            "\u001b[0;31mTypeError\u001b[0m                                 Traceback (most recent call last)",
            "\u001b[0;32m<ipython-input-75-6217d6899b31>\u001b[0m in \u001b[0;36m<cell line: 1>\u001b[0;34m()\u001b[0m\n\u001b[0;32m----> 1\u001b[0;31m \u001b[0;36m2\u001b[0m \u001b[0;34m<=\u001b[0m \u001b[0;34m'abacate'\u001b[0m\u001b[0;34m\u001b[0m\u001b[0;34m\u001b[0m\u001b[0m\n\u001b[0m",
            "\u001b[0;31mTypeError\u001b[0m: '<=' not supported between instances of 'int' and 'str'"
          ]
        }
      ]
    },
    {
      "cell_type": "code",
      "source": [],
      "metadata": {
        "colab": {
          "base_uri": "https://localhost:8080/"
        },
        "id": "1M6UsaD5Uhuw",
        "outputId": "6fd6625b-989c-4cca-b5fe-d9c7a1a9ef38"
      },
      "execution_count": null,
      "outputs": [
        {
          "output_type": "execute_result",
          "data": {
            "text/plain": [
              "True"
            ]
          },
          "metadata": {},
          "execution_count": 62
        }
      ]
    },
    {
      "cell_type": "code",
      "source": [
        "a = 5.00000001\n",
        "# and or not\n",
        "\n",
        "print(\"antes do if começar\")\n",
        "if 2 < a <= 5:\n",
        "      print(\"o numero é 2\")\n",
        "      print(\"mais codigos dentor if\")\n",
        "else:\n",
        "    print(\"poxa que pena, não era 2\")\n",
        "print(\"aqui ja esta fora do if\")"
      ],
      "metadata": {
        "colab": {
          "base_uri": "https://localhost:8080/"
        },
        "id": "iM-2P4RsVzjU",
        "outputId": "46416659-4699-4003-bc99-c75ce966c2a3"
      },
      "execution_count": null,
      "outputs": [
        {
          "output_type": "stream",
          "name": "stdout",
          "text": [
            "antes do if começar\n",
            "poxa que pena, não era 2\n",
            "aqui ja esta fora do if\n"
          ]
        }
      ]
    },
    {
      "cell_type": "code",
      "source": [
        "# A | B | A and B\n",
        "# V | V | V\n",
        "# V | F | F\n",
        "# F | V | F\n",
        "# F | F | F\n",
        "\n",
        "# A | B | A ou B\n",
        "# V | V | V\n",
        "# V | F | V\n",
        "# F | V | V\n",
        "# F | F | F\n",
        "\n",
        "# A | not A\n",
        "# V | F\n",
        "# F | V"
      ],
      "metadata": {
        "id": "p9Pjm0Aca25j"
      },
      "execution_count": null,
      "outputs": []
    },
    {
      "cell_type": "code",
      "source": [
        "## Exercicios\n",
        "\n",
        "# Equação de 2 Grau\n",
        "\n",
        "# a*x² + b*x + c = 0\n",
        "# x² - x + 1 = 0 -> delta = -3 < 0\n",
        "# x² +2x + 1 = 0 -> delta = 0\n",
        "# x^2 - 4x = 0 - > delta = 16 > 0\n",
        "\n",
        "##  Carro flex\n",
        "\n",
        "## se o valor etanol for maior que 70% do valor do valor gasolina -> gasolina\n",
        "## se o valor do etanol for menor ou igual a 70% do valor gasolina -> etanol\n",
        "\n",
        "\n",
        "#gasolina, etanol = 4, 1 # etanol\n",
        "#gasolina, etanol = 4, 3 # gasolina\n",
        "#gasolina, etanol = 10, 7 # etanol\n",
        "#gasolina, etanol = 10, 7.0000000001 #gasolina\n",
        "\n",
        "### Exercicio\n",
        "#dada a tabela o IR, faça um programa que recebe o salário de um trabalhador e devolve o valor do imposto. Utilizando a regra de imposto efetiva até 2021\n",
        "\n",
        "#|Base de cálculo (R$)\t|Alíquota (%)|\n",
        "#--------------------- |-------------|\n",
        "#|Abaixo de 1.903,98      | 0%    |\n",
        "#|De 1.903,99 até 2.826,65|\t7,5%  |\n",
        "#|De 2.826,66 até 3.751,05|\t15%\t  |\n",
        "#|De 3.751,06 até 4.664,68|\t22,5%\t|\n",
        "#|Acima de 4.664,69       |\t27,5% |"
      ],
      "metadata": {
        "id": "LCT4zeTFgRl7"
      },
      "execution_count": null,
      "outputs": []
    },
    {
      "cell_type": "code",
      "source": [
        "#Resposta equação do 2º grau\n",
        "var_a = float(input(\"Informe o valor de a : \"))\n",
        "var_b = float(input(\"Informe o valor de b : \"))\n",
        "var_c = float(input(\"Informe o valor de c : \"))\n",
        "print(f\"{var_a}x² + ({var_b})x + ({var_c})\")\n",
        "var_delta = var_b**2 - 4*var_a*var_c\n",
        "print(f\"Delta = {var_delta}\")"
      ],
      "metadata": {
        "colab": {
          "base_uri": "https://localhost:8080/"
        },
        "id": "EzYYZ-Py-TMr",
        "outputId": "8a0ed5f9-3f15-4b94-80ab-4f98feae75a1"
      },
      "execution_count": null,
      "outputs": [
        {
          "output_type": "stream",
          "name": "stdout",
          "text": [
            "Informe o valor de a : 2\n",
            "Informe o valor de b : 3\n",
            "Informe o valor de c : 5\n",
            "2.0x² + (3.0)x + (5.0)\n",
            "Delta = -31.0\n"
          ]
        }
      ]
    },
    {
      "cell_type": "code",
      "source": [
        "#Resposta ao exercício do etanol x gasolina\n",
        "valor_gasolina = float(input(f'Informe o valor (R$) do litro da gasolina: '))\n",
        "valor_etanol = float(input(f'Informe o valor (R$) do litro do etanol: '))\n",
        "if valor_etanol > (0.7 * valor_gasolina):\n",
        "  print('Abasteça com GASOLINA')\n",
        "else:\n",
        "  print('Abasteça com ETANOL')"
      ],
      "metadata": {
        "colab": {
          "base_uri": "https://localhost:8080/"
        },
        "id": "mAHzTO-g_fCU",
        "outputId": "271ba518-6305-4506-c78c-3ebd06f3a3ee"
      },
      "execution_count": null,
      "outputs": [
        {
          "output_type": "stream",
          "name": "stdout",
          "text": [
            "Informe o valor (R$) do litro da gasolina: 5\n",
            "Informe o valor (R$) do litro do etanol: 2\n",
            "Abasteça com ETANOL\n"
          ]
        }
      ]
    },
    {
      "cell_type": "code",
      "source": [
        "#Resposta IR\n",
        "salario = float(input(f'Informe o valor (R$) do salário do trabalhador: '))\n",
        "if salario < 1903.98:\n",
        "  imposto = 0\n",
        "elif 1903.99 <= salario < 2826.65:\n",
        "  imposto = 7.5\n",
        "elif 2826.66 <= salario < 3751.05:\n",
        "  imposto = 15\n",
        "elif 3751.06 <= salario < 4664.68:\n",
        "  imposto = 22.5\n",
        "elif salario >= 4664.69:\n",
        "  imposto = 27.5\n",
        "print(f'O valor do IR a pagar será de {imposto} %.')"
      ],
      "metadata": {
        "colab": {
          "base_uri": "https://localhost:8080/"
        },
        "id": "XHCS6cg5BTrL",
        "outputId": "7c49e5a8-0e6a-41a6-886e-50c6050fa476"
      },
      "execution_count": null,
      "outputs": [
        {
          "output_type": "stream",
          "name": "stdout",
          "text": [
            "Informe o valor (R$) do salário do trabalhador: 3489.8777\n",
            "O valor do IR a pagar será de 15 %.\n"
          ]
        }
      ]
    },
    {
      "cell_type": "code",
      "source": [
        "media = 3\n",
        "\n",
        "if media >= 5:\n",
        "    print(\"aprovado\")\n",
        "else:\n",
        "    if 3 <= media:\n",
        "        print(\"em recuperação\")\n",
        "    else:\n",
        "        print(\"reprovado\")"
      ],
      "metadata": {
        "id": "mJhjI3VcgRwt"
      },
      "execution_count": null,
      "outputs": []
    },
    {
      "cell_type": "code",
      "source": [
        "if media < 3:\n",
        "  print(\"reprovado\")\n",
        "elif media < 5:\n",
        "  print(\"recuperação\")\n",
        "else:\n",
        "  print(\"aprovado\")"
      ],
      "metadata": {
        "id": "IF1kEN7FigBO"
      },
      "execution_count": null,
      "outputs": []
    },
    {
      "cell_type": "code",
      "source": [
        "if 3<= media < 5:\n",
        "  print(\"recuperação\")\n",
        "else:\n",
        "  if media < 3:\n",
        "    print(\"reprovado\")\n",
        "  else:\n",
        "    print(\"aprovado\")"
      ],
      "metadata": {
        "id": "9OFYcAgqix7M"
      },
      "execution_count": null,
      "outputs": []
    },
    {
      "cell_type": "code",
      "source": [
        "if media < 5:\n",
        "  if media < 3:\n",
        "    print(\"reprovado\")\n",
        "  else:\n",
        "    print(\"recuperação\")\n",
        "else:\n",
        "  print(\"aprovado\")"
      ],
      "metadata": {
        "id": "T6v1ImEGjTnz"
      },
      "execution_count": null,
      "outputs": []
    },
    {
      "cell_type": "markdown",
      "source": [
        "### **Exercícios dia #3**\n",
        "\n",
        "O usuário deve entrar com uma palavra e o programa deve exibir quantas vezes a letra “a” aparece."
      ],
      "metadata": {
        "id": "td09H7cOIrsi"
      }
    },
    {
      "cell_type": "code",
      "source": [
        "palavra = input(\"Entre com palavra:\")\n",
        "contador = 0\n",
        "\n",
        "for letra in palavra:\n",
        "    if letra == 'a':\n",
        "        contador += 1\n",
        "\n",
        "print(\"A letra 'a' aparece\", contador, \"vezes na palavra digitada.\")\n"
      ],
      "metadata": {
        "colab": {
          "base_uri": "https://localhost:8080/"
        },
        "id": "7eTZBNpZIzkO",
        "outputId": "c7680754-1a7e-4a26-c488-04facd38e3b8"
      },
      "execution_count": null,
      "outputs": [
        {
          "output_type": "stream",
          "name": "stdout",
          "text": [
            "Entre com palavra:manaus\n",
            "A letra 'a' aparece 2 vezes na palavra digitada.\n"
          ]
        }
      ]
    },
    {
      "cell_type": "markdown",
      "source": [
        "**Tuplas**\n"
      ],
      "metadata": {
        "id": "xRLTvgznKS1g"
      }
    },
    {
      "cell_type": "code",
      "source": [
        "ponto = (3, 5)\n",
        "print(\"Coordenada X:\", ponto[0])\n",
        "print(\"Coordenada Y:\", ponto[1])\n",
        "tupla = (1, 2, 3)\n",
        "print(\"Tupla original:\", tupla)\n",
        "tupla = (7,8)\n",
        "print(\"Tupla modificada:\", tupla)\n"
      ],
      "metadata": {
        "colab": {
          "base_uri": "https://localhost:8080/"
        },
        "id": "Sya8gqpYKVLI",
        "outputId": "52e6a85c-a7e9-40a7-de3b-637cdc2b407c"
      },
      "execution_count": null,
      "outputs": [
        {
          "output_type": "stream",
          "name": "stdout",
          "text": [
            "Coordenada X: 3\n",
            "Coordenada Y: 5\n",
            "Tupla original: (1, 2, 3)\n",
            "Tupla modificada: (7, 8)\n"
          ]
        }
      ]
    },
    {
      "cell_type": "markdown",
      "source": [
        "**Problema 2:** Escreva um programa que percorra uma lista de palavras e exibe aquelas que possuem um comprimento maior do que um determinado valor."
      ],
      "metadata": {
        "id": "5NVK6WYjLhUs"
      }
    },
    {
      "cell_type": "code",
      "source": [
        "# Iterando sobre uma lista de palavras e exibindo as palavras com comprimento maior que 5\n",
        "palavras = [\"gato\", \"cachorro\", \"elefante\", \"pássaro\", \"tartaruga\", \"abelha\", \"formiga\"]\n",
        "\n",
        "comprimento = int(input(f'Entre com comprimento desejado:'))\n",
        "\n",
        "print(\"Palavras com comprimento maior que\", comprimento, \":\")\n",
        "for palavra in palavras:\n",
        "    if len(palavra) > comprimento:\n",
        "        print(palavra)\n"
      ],
      "metadata": {
        "colab": {
          "base_uri": "https://localhost:8080/"
        },
        "id": "P16vVu4ZLkos",
        "outputId": "4f472587-2689-40eb-e1bb-cffa47d02997"
      },
      "execution_count": null,
      "outputs": [
        {
          "output_type": "stream",
          "name": "stdout",
          "text": [
            "Entre com comprimento desejado:5\n",
            "Palavras com comprimento maior que 5 :\n",
            "cachorro\n",
            "elefante\n",
            "pássaro\n",
            "tartaruga\n",
            "abelha\n",
            "formiga\n"
          ]
        }
      ]
    },
    {
      "cell_type": "markdown",
      "source": [
        "**Problema 3:**Aprimore o exemplo anterior de modo que o usuário possa inserir a quantidade de palavras que desejar."
      ],
      "metadata": {
        "id": "S3ZxJPdANbJF"
      }
    },
    {
      "cell_type": "code",
      "source": [
        "comprimento = int(input(f'Entre com comprimento desejado para comparação:'))\n",
        "quantidade_palavras = int(input(\"Quantas palavras você gostaria de inserir? \"))\n",
        "\n",
        "palavras = []\n",
        "for i in range(quantidade_palavras):\n",
        "    palavra = input(f\"Insira a palavra {i+1}: \")\n",
        "    palavras.append(palavra)\n",
        "\n",
        "print(\"\\nPalavras com comprimento maior que\", comprimento, \":\")\n",
        "for palavra in palavras:\n",
        "    if len(palavra) > comprimento:\n",
        "        print(palavra)\n"
      ],
      "metadata": {
        "colab": {
          "base_uri": "https://localhost:8080/"
        },
        "id": "B5NUBwTONe16",
        "outputId": "bf627f5b-a6fa-412f-f39d-078f97265bd4"
      },
      "execution_count": null,
      "outputs": [
        {
          "output_type": "stream",
          "name": "stdout",
          "text": [
            "Entre com comprimento desejado para comparação:5\n",
            "Quantas palavras você gostaria de inserir? 7\n",
            "Insira a palavra 1: arara\n",
            "Insira a palavra 2: peixe\n",
            "Insira a palavra 3: ave\n",
            "Insira a palavra 4: dinossauro\n",
            "Insira a palavra 5: planeta\n",
            "Insira a palavra 6: biosfera\n",
            "Insira a palavra 7: celula\n",
            "\n",
            "Palavras com comprimento maior que 5 :\n",
            "dinossauro\n",
            "planeta\n",
            "biosfera\n",
            "celula\n"
          ]
        }
      ]
    },
    {
      "cell_type": "markdown",
      "source": [
        "**Problema 4:** Escreva um programa que solicite ao usuário um número inteiro positivo e, em seguida, faça uma contagem regressiva a partir desse número até zero, imprimindo cada número no processo.\n"
      ],
      "metadata": {
        "id": "AxuIeE5HPIyf"
      }
    },
    {
      "cell_type": "code",
      "source": [
        "numero = int(input(\"Digite um número inteiro positivo: \"))\n",
        "\n",
        "while numero >= 0:\n",
        "    print(numero)\n",
        "    numero -= 1\n",
        "\n",
        "print(\"Contagem regressiva concluída!\")\n"
      ],
      "metadata": {
        "colab": {
          "base_uri": "https://localhost:8080/"
        },
        "id": "WjpW51jFPMFj",
        "outputId": "7ff27b2d-22b3-42a4-c986-124ec528342b"
      },
      "execution_count": null,
      "outputs": [
        {
          "output_type": "stream",
          "name": "stdout",
          "text": [
            "Digite um número inteiro positivo: 10\n",
            "10\n",
            "9\n",
            "8\n",
            "7\n",
            "6\n",
            "5\n",
            "4\n",
            "3\n",
            "2\n",
            "1\n",
            "0\n",
            "Contagem regressiva concluída!\n"
          ]
        }
      ]
    },
    {
      "cell_type": "markdown",
      "source": [
        "**Problema 5:** Você está em um grupo de amigos e não consegue decidir onde almoçar hoje. Crie um programa que utilize a função random.choice() do módulo random para escolher aleatoriamente um restaurante da lista de opções de almoço.\n",
        "Dada a lista de restaurantes: [\"Pizzaria\", \"Restaurante Chinês\", \"Hamburgueria\", \"Comida Mexicana\", \"Sushi\"], o programa deve imprimir uma escolha aleatória para o almoço.\n",
        "\n",
        "Dica: Use o módulo random para importar a função choice(), que seleciona um item aleatório de uma sequência.\n"
      ],
      "metadata": {
        "id": "Y5iSqHtlPejD"
      }
    },
    {
      "cell_type": "code",
      "source": [
        "import random\n",
        "\n",
        "opcoes_almoco = [\"Pizzaria\", \"Restaurante Chinês\", \"Hamburgueria\", \"Comida Mexicana\", \"Sushi\",\"Culinaria Manauara\"]\n",
        "\n",
        "escolha_aleatoria = random.choice(opcoes_almoco)\n",
        "\n",
        "print(\"Hoje vamos almoçar em:\", escolha_aleatoria)\n"
      ],
      "metadata": {
        "colab": {
          "base_uri": "https://localhost:8080/"
        },
        "id": "_UAWQSbGRBTg",
        "outputId": "96ba848d-d773-4ce8-e782-5230840059da"
      },
      "execution_count": null,
      "outputs": [
        {
          "output_type": "stream",
          "name": "stdout",
          "text": [
            "Hoje vamos almoçar em: Restaurante Chinês\n"
          ]
        }
      ]
    },
    {
      "cell_type": "markdown",
      "source": [
        "**Problema 6:** Crie um programa que gere um número inteiro aleatório entre 1 e 10.\n",
        "\n",
        "O programa deve então pedir ao usuário para adivinhar qual é esse número.\n",
        "\n",
        "Se o palpite do usuário estiver correto, o programa deve exibir uma mensagem de parabéns.\n",
        "\n",
        "Caso contrário, o programa deve informar se o número é maior ou menor que o palpite e dar ao usuário a chance de tentar novamente.\n",
        "\n",
        "O jogo deve seguir até o usuário adivinhar corretamente o número.\n"
      ],
      "metadata": {
        "id": "hd1DyTVLSAwZ"
      }
    },
    {
      "cell_type": "code",
      "source": [
        "import random\n",
        "\n",
        "numero_secreto = random.randint(1, 10)\n",
        "palpite = None\n",
        "\n",
        "print(\"Bem-vindo ao Jogo de Adivinhação!\")\n",
        "print(\"Tente adivinhar o número entre 1 e 10.\")\n",
        "\n",
        "while palpite != numero_secreto:\n",
        "    palpite = int(input(\"Digite seu palpite: \"))\n",
        "\n",
        "    if palpite == numero_secreto:\n",
        "        print(\"Parabéns! Você acertou o número.\")\n",
        "    elif palpite < numero_secreto:\n",
        "        print(\"O número é maior. Tente novamente.\")\n",
        "    else:\n",
        "        print(\"O número é menor. Tente novamente.\")\n",
        "\n"
      ],
      "metadata": {
        "colab": {
          "base_uri": "https://localhost:8080/"
        },
        "id": "Hw3LR9t0SI8M",
        "outputId": "e8a90b0c-139b-4591-9304-035ca01f31a3"
      },
      "execution_count": null,
      "outputs": [
        {
          "output_type": "stream",
          "name": "stdout",
          "text": [
            "Bem-vindo ao Jogo de Adivinhação!\n",
            "Tente adivinhar o número entre 1 e 10.\n",
            "Digite seu palpite: 6\n",
            "O número é maior. Tente novamente.\n",
            "Digite seu palpite: 8\n",
            "O número é menor. Tente novamente.\n",
            "Digite seu palpite: 7\n",
            "Parabéns! Você acertou o número.\n"
          ]
        }
      ]
    },
    {
      "cell_type": "code",
      "source": [
        "alunos = []\n",
        "\n",
        "nome_aluno = input(\"Digite o nome do primeiro aluno ou 'sair' para sair: \")\n",
        "while not nome_aluno == 'sair':\n",
        "  alunos.append(nome_aluno)\n",
        "  nome_aluno = input(\"Digite o nome do próximo aluno ou 'sair' para sair: \")"
      ],
      "metadata": {
        "colab": {
          "base_uri": "https://localhost:8080/",
          "height": 392
        },
        "id": "up9L7VEB6qLf",
        "outputId": "0d71b353-51f2-4a89-8043-7701228d4da7"
      },
      "execution_count": null,
      "outputs": [
        {
          "output_type": "error",
          "ename": "KeyboardInterrupt",
          "evalue": "ignored",
          "traceback": [
            "\u001b[0;31m---------------------------------------------------------------------------\u001b[0m",
            "\u001b[0;31mKeyboardInterrupt\u001b[0m                         Traceback (most recent call last)",
            "\u001b[0;32m<ipython-input-59-e7d444e97214>\u001b[0m in \u001b[0;36m<cell line: 3>\u001b[0;34m()\u001b[0m\n\u001b[1;32m      1\u001b[0m \u001b[0malunos\u001b[0m \u001b[0;34m=\u001b[0m \u001b[0;34m[\u001b[0m\u001b[0;34m]\u001b[0m\u001b[0;34m\u001b[0m\u001b[0;34m\u001b[0m\u001b[0m\n\u001b[1;32m      2\u001b[0m \u001b[0;34m\u001b[0m\u001b[0m\n\u001b[0;32m----> 3\u001b[0;31m \u001b[0mnome_aluno\u001b[0m \u001b[0;34m=\u001b[0m \u001b[0minput\u001b[0m\u001b[0;34m(\u001b[0m\u001b[0;34m\"Digite o nome do primeiro aluno ou 'sair' para sair: \"\u001b[0m\u001b[0;34m)\u001b[0m\u001b[0;34m\u001b[0m\u001b[0;34m\u001b[0m\u001b[0m\n\u001b[0m\u001b[1;32m      4\u001b[0m \u001b[0;32mwhile\u001b[0m \u001b[0;32mnot\u001b[0m \u001b[0mnome_aluno\u001b[0m \u001b[0;34m==\u001b[0m \u001b[0;34m'sair'\u001b[0m\u001b[0;34m:\u001b[0m\u001b[0;34m\u001b[0m\u001b[0;34m\u001b[0m\u001b[0m\n\u001b[1;32m      5\u001b[0m   \u001b[0malunos\u001b[0m\u001b[0;34m.\u001b[0m\u001b[0mappend\u001b[0m\u001b[0;34m(\u001b[0m\u001b[0mnome_aluno\u001b[0m\u001b[0;34m)\u001b[0m\u001b[0;34m\u001b[0m\u001b[0;34m\u001b[0m\u001b[0m\n",
            "\u001b[0;32m/usr/local/lib/python3.10/dist-packages/ipykernel/kernelbase.py\u001b[0m in \u001b[0;36mraw_input\u001b[0;34m(self, prompt)\u001b[0m\n\u001b[1;32m    849\u001b[0m                 \u001b[0;34m\"raw_input was called, but this frontend does not support input requests.\"\u001b[0m\u001b[0;34m\u001b[0m\u001b[0;34m\u001b[0m\u001b[0m\n\u001b[1;32m    850\u001b[0m             )\n\u001b[0;32m--> 851\u001b[0;31m         return self._input_request(str(prompt),\n\u001b[0m\u001b[1;32m    852\u001b[0m             \u001b[0mself\u001b[0m\u001b[0;34m.\u001b[0m\u001b[0m_parent_ident\u001b[0m\u001b[0;34m,\u001b[0m\u001b[0;34m\u001b[0m\u001b[0;34m\u001b[0m\u001b[0m\n\u001b[1;32m    853\u001b[0m             \u001b[0mself\u001b[0m\u001b[0;34m.\u001b[0m\u001b[0m_parent_header\u001b[0m\u001b[0;34m,\u001b[0m\u001b[0;34m\u001b[0m\u001b[0;34m\u001b[0m\u001b[0m\n",
            "\u001b[0;32m/usr/local/lib/python3.10/dist-packages/ipykernel/kernelbase.py\u001b[0m in \u001b[0;36m_input_request\u001b[0;34m(self, prompt, ident, parent, password)\u001b[0m\n\u001b[1;32m    893\u001b[0m             \u001b[0;32mexcept\u001b[0m \u001b[0mKeyboardInterrupt\u001b[0m\u001b[0;34m:\u001b[0m\u001b[0;34m\u001b[0m\u001b[0;34m\u001b[0m\u001b[0m\n\u001b[1;32m    894\u001b[0m                 \u001b[0;31m# re-raise KeyboardInterrupt, to truncate traceback\u001b[0m\u001b[0;34m\u001b[0m\u001b[0;34m\u001b[0m\u001b[0m\n\u001b[0;32m--> 895\u001b[0;31m                 \u001b[0;32mraise\u001b[0m \u001b[0mKeyboardInterrupt\u001b[0m\u001b[0;34m(\u001b[0m\u001b[0;34m\"Interrupted by user\"\u001b[0m\u001b[0;34m)\u001b[0m \u001b[0;32mfrom\u001b[0m \u001b[0;32mNone\u001b[0m\u001b[0;34m\u001b[0m\u001b[0;34m\u001b[0m\u001b[0m\n\u001b[0m\u001b[1;32m    896\u001b[0m             \u001b[0;32mexcept\u001b[0m \u001b[0mException\u001b[0m \u001b[0;32mas\u001b[0m \u001b[0me\u001b[0m\u001b[0;34m:\u001b[0m\u001b[0;34m\u001b[0m\u001b[0;34m\u001b[0m\u001b[0m\n\u001b[1;32m    897\u001b[0m                 \u001b[0mself\u001b[0m\u001b[0;34m.\u001b[0m\u001b[0mlog\u001b[0m\u001b[0;34m.\u001b[0m\u001b[0mwarning\u001b[0m\u001b[0;34m(\u001b[0m\u001b[0;34m\"Invalid Message:\"\u001b[0m\u001b[0;34m,\u001b[0m \u001b[0mexc_info\u001b[0m\u001b[0;34m=\u001b[0m\u001b[0;32mTrue\u001b[0m\u001b[0;34m)\u001b[0m\u001b[0;34m\u001b[0m\u001b[0;34m\u001b[0m\u001b[0m\n",
            "\u001b[0;31mKeyboardInterrupt\u001b[0m: Interrupted by user"
          ]
        }
      ]
    },
    {
      "cell_type": "code",
      "source": [
        "print(alunos)"
      ],
      "metadata": {
        "colab": {
          "base_uri": "https://localhost:8080/"
        },
        "id": "DRtgjeMmNBG3",
        "outputId": "688ea646-434f-4214-cbe8-3b5fabfe93aa"
      },
      "execution_count": null,
      "outputs": [
        {
          "output_type": "stream",
          "name": "stdout",
          "text": [
            "['Guilherme', 'Lais', 'Caio']\n"
          ]
        }
      ]
    },
    {
      "cell_type": "code",
      "source": [
        "### Listas\n",
        "\n",
        "minha_lista = [1,3, 5,\"PUDIM\", True]"
      ],
      "metadata": {
        "id": "NVgyVknK6qXQ"
      },
      "execution_count": null,
      "outputs": []
    },
    {
      "cell_type": "code",
      "source": [
        "minha_lista.append(\"no fim da lista\")"
      ],
      "metadata": {
        "id": "Ll_qN8wHHosp"
      },
      "execution_count": null,
      "outputs": []
    },
    {
      "cell_type": "code",
      "source": [
        "minha_lista.insert(1,\"segunda posição\")"
      ],
      "metadata": {
        "id": "Uyb7Ssq-JkSY"
      },
      "execution_count": null,
      "outputs": []
    },
    {
      "cell_type": "code",
      "source": [
        "print(minha_lista)"
      ],
      "metadata": {
        "colab": {
          "base_uri": "https://localhost:8080/"
        },
        "id": "zuGMJqGCIU4J",
        "outputId": "e5209bd1-7586-45e2-baca-75f349322d32"
      },
      "execution_count": null,
      "outputs": [
        {
          "output_type": "stream",
          "name": "stdout",
          "text": [
            "[1, 'segunda posição', 15, True, 'no fim da lista']\n"
          ]
        }
      ]
    },
    {
      "cell_type": "code",
      "source": [
        "minha_lista[5] = 15"
      ],
      "metadata": {
        "colab": {
          "base_uri": "https://localhost:8080/",
          "height": 177
        },
        "id": "FQrXAbWeJcCR",
        "outputId": "0b1305fd-fef8-404a-e9af-23d24246972f"
      },
      "execution_count": null,
      "outputs": [
        {
          "output_type": "error",
          "ename": "IndexError",
          "evalue": "ignored",
          "traceback": [
            "\u001b[0;31m---------------------------------------------------------------------------\u001b[0m",
            "\u001b[0;31mIndexError\u001b[0m                                Traceback (most recent call last)",
            "\u001b[0;32m<ipython-input-42-c1ce3d77a30c>\u001b[0m in \u001b[0;36m<cell line: 1>\u001b[0;34m()\u001b[0m\n\u001b[0;32m----> 1\u001b[0;31m \u001b[0mminha_lista\u001b[0m\u001b[0;34m[\u001b[0m\u001b[0;36m5\u001b[0m\u001b[0;34m]\u001b[0m \u001b[0;34m=\u001b[0m \u001b[0;36m15\u001b[0m\u001b[0;34m\u001b[0m\u001b[0;34m\u001b[0m\u001b[0m\n\u001b[0m",
            "\u001b[0;31mIndexError\u001b[0m: list assignment index out of range"
          ]
        }
      ]
    },
    {
      "cell_type": "code",
      "source": [
        "del(minha_lista)"
      ],
      "metadata": {
        "id": "fGt26B91Jz5C"
      },
      "execution_count": null,
      "outputs": []
    },
    {
      "cell_type": "code",
      "source": [
        "deletado = minha_lista.pop(3)"
      ],
      "metadata": {
        "id": "W1kntbXEK4Xp"
      },
      "execution_count": null,
      "outputs": []
    },
    {
      "cell_type": "code",
      "source": [
        "deletado"
      ],
      "metadata": {
        "colab": {
          "base_uri": "https://localhost:8080/",
          "height": 35
        },
        "id": "5gduop7aLRoO",
        "outputId": "9a3d6ab5-4bbd-4bdc-bd76-5ca310abc84e"
      },
      "execution_count": null,
      "outputs": [
        {
          "output_type": "execute_result",
          "data": {
            "text/plain": [
              "'PUDIM'"
            ],
            "application/vnd.google.colaboratory.intrinsic+json": {
              "type": "string"
            }
          },
          "metadata": {},
          "execution_count": 38
        }
      ]
    },
    {
      "cell_type": "code",
      "source": [
        "len(minha_lista)"
      ],
      "metadata": {
        "colab": {
          "base_uri": "https://localhost:8080/"
        },
        "id": "Bn8SuSgALUWE",
        "outputId": "70cf2c5f-ffee-4d0c-ae3a-4be5a1e23623"
      },
      "execution_count": null,
      "outputs": [
        {
          "output_type": "execute_result",
          "data": {
            "text/plain": [
              "5"
            ]
          },
          "metadata": {},
          "execution_count": 43
        }
      ]
    },
    {
      "cell_type": "code",
      "source": [
        "minha_lista.index(99)"
      ],
      "metadata": {
        "colab": {
          "base_uri": "https://localhost:8080/",
          "height": 177
        },
        "id": "8UDr77h1LmoL",
        "outputId": "4ec055db-6f6a-4e66-acf2-12c20551f02c"
      },
      "execution_count": null,
      "outputs": [
        {
          "output_type": "error",
          "ename": "ValueError",
          "evalue": "ignored",
          "traceback": [
            "\u001b[0;31m---------------------------------------------------------------------------\u001b[0m",
            "\u001b[0;31mValueError\u001b[0m                                Traceback (most recent call last)",
            "\u001b[0;32m<ipython-input-52-159f6d5aee5a>\u001b[0m in \u001b[0;36m<cell line: 1>\u001b[0;34m()\u001b[0m\n\u001b[0;32m----> 1\u001b[0;31m \u001b[0mminha_lista\u001b[0m\u001b[0;34m.\u001b[0m\u001b[0mindex\u001b[0m\u001b[0;34m(\u001b[0m\u001b[0;36m99\u001b[0m\u001b[0;34m)\u001b[0m\u001b[0;34m\u001b[0m\u001b[0;34m\u001b[0m\u001b[0m\n\u001b[0m",
            "\u001b[0;31mValueError\u001b[0m: 99 is not in list"
          ]
        }
      ]
    },
    {
      "cell_type": "code",
      "source": [
        "for aluno in alunos:\n",
        "  print(aluno, \"aprovado\") #calcula media\n",
        "\n"
      ],
      "metadata": {
        "colab": {
          "base_uri": "https://localhost:8080/"
        },
        "id": "u5TSliObPIoZ",
        "outputId": "e25e80ea-f6cb-4fa2-f51c-b2d913680274"
      },
      "execution_count": null,
      "outputs": [
        {
          "output_type": "stream",
          "name": "stdout",
          "text": [
            "Guilherme aprovado\n",
            "Lais aprovado\n",
            "Caio aprovado\n"
          ]
        }
      ]
    },
    {
      "cell_type": "code",
      "source": [
        "### Leia um numeros do usuario até ele digitar 0, e calcule a media dos numeros digitados.\n",
        "\n",
        "numeros = []\n",
        "numero = float(input(\"Digite um número ou '0' para sair: \"))\n",
        "while not numero == 0:\n",
        "  numeros.append(numero)\n",
        "  numero = float(input(\"Digite um número ou '0' para sair: \"))\n",
        "\n",
        "if len(numeros) > 0:\n",
        "  media = sum(numeros)/len(numeros)\n",
        "  print(media)\n",
        "\n",
        "### complemente esse exercicio com a variancia, desvio padrão e mediana"
      ],
      "metadata": {
        "colab": {
          "base_uri": "https://localhost:8080/"
        },
        "id": "tIjFCs4QQvDy",
        "outputId": "13382fbd-7371-4288-bb34-714a28bab757"
      },
      "execution_count": null,
      "outputs": [
        {
          "output_type": "stream",
          "name": "stdout",
          "text": [
            "Digite um número ou '0' para sair: 8\n",
            "Digite um número ou '0' para sair: 6\n",
            "Digite um número ou '0' para sair: 0\n",
            "7.0\n"
          ]
        }
      ]
    },
    {
      "cell_type": "code",
      "source": [
        "# Dicionarios !!\n",
        "\n",
        "\n",
        "meu_dicionario = {'nome': 'Guilherme' , 'pi': 3.141516, 0: \"numero neutro\" }"
      ],
      "metadata": {
        "id": "XO7rJdw7XcVk"
      },
      "execution_count": null,
      "outputs": []
    },
    {
      "cell_type": "code",
      "source": [
        "print(meu_dicionario)"
      ],
      "metadata": {
        "colab": {
          "base_uri": "https://localhost:8080/"
        },
        "id": "YpwNRBZZbKSA",
        "outputId": "c05cdac5-3e90-4541-a1ce-8157de784e80"
      },
      "execution_count": null,
      "outputs": [
        {
          "output_type": "stream",
          "name": "stdout",
          "text": [
            "{'nome': 'Alberto', 0: 'numero neutro', 'chave nova': 'valor novo'}\n"
          ]
        }
      ]
    },
    {
      "cell_type": "code",
      "source": [
        "meu_dicionario['sobrenome'] = \"Alberto\""
      ],
      "metadata": {
        "id": "eAlAwRsubNN6"
      },
      "execution_count": null,
      "outputs": []
    },
    {
      "cell_type": "code",
      "source": [
        "meu_dicionario['nome']"
      ],
      "metadata": {
        "colab": {
          "base_uri": "https://localhost:8080/",
          "height": 35
        },
        "id": "EhYhXN-UbV-s",
        "outputId": "0a0f0799-14cd-446b-ba53-7b4b6075d3f8"
      },
      "execution_count": null,
      "outputs": [
        {
          "output_type": "execute_result",
          "data": {
            "text/plain": [
              "'Alberto'"
            ],
            "application/vnd.google.colaboratory.intrinsic+json": {
              "type": "string"
            }
          },
          "metadata": {},
          "execution_count": 76
        }
      ]
    },
    {
      "cell_type": "code",
      "source": [
        "len(meu_dicionario)"
      ],
      "metadata": {
        "colab": {
          "base_uri": "https://localhost:8080/"
        },
        "id": "DuxBWHVjb1TS",
        "outputId": "dbbb4101-347c-4842-f8c7-da00a6535f26"
      },
      "execution_count": null,
      "outputs": [
        {
          "output_type": "execute_result",
          "data": {
            "text/plain": [
              "4"
            ]
          },
          "metadata": {},
          "execution_count": 80
        }
      ]
    },
    {
      "cell_type": "code",
      "source": [
        "meu_dicionario['chave nova'] = \"valor novo\""
      ],
      "metadata": {
        "id": "i_rngTYWb-jK"
      },
      "execution_count": null,
      "outputs": []
    },
    {
      "cell_type": "code",
      "source": [
        "del(meu_dicionario['pi'])"
      ],
      "metadata": {
        "id": "A71U_YiVcHej"
      },
      "execution_count": null,
      "outputs": []
    },
    {
      "cell_type": "code",
      "source": [
        "apagado = meu_dicionario.pop(0)"
      ],
      "metadata": {
        "id": "_4_RJ_D0chCM"
      },
      "execution_count": null,
      "outputs": []
    },
    {
      "cell_type": "code",
      "source": [
        "apagado"
      ],
      "metadata": {
        "colab": {
          "base_uri": "https://localhost:8080/",
          "height": 35
        },
        "id": "VDLBNxhkcrNw",
        "outputId": "488cf606-819a-40d9-f987-9b4f15249b9b"
      },
      "execution_count": null,
      "outputs": [
        {
          "output_type": "execute_result",
          "data": {
            "text/plain": [
              "'numero neutro'"
            ],
            "application/vnd.google.colaboratory.intrinsic+json": {
              "type": "string"
            }
          },
          "metadata": {},
          "execution_count": 86
        }
      ]
    },
    {
      "cell_type": "code",
      "source": [
        "for chave, valor in meu_dicionario.items():\n",
        "  print(chave, valor)"
      ],
      "metadata": {
        "colab": {
          "base_uri": "https://localhost:8080/"
        },
        "id": "gFYz8vNdcsUn",
        "outputId": "2a120c1e-49c6-45ce-c744-f4336745060b"
      },
      "execution_count": null,
      "outputs": [
        {
          "output_type": "stream",
          "name": "stdout",
          "text": [
            "nome Guilherme\n",
            "pi 3.141516\n",
            "0 numero neutro\n",
            "sobrenome Alberto\n",
            "chave nova valor novo\n"
          ]
        }
      ]
    },
    {
      "cell_type": "code",
      "source": [
        "alunos = {\n",
        "    'Guilherme': {'matematica': [7, 8], 'ingles': [4, 8]},\n",
        "    'Lais': {'matematica': [5, 6], 'ingles': [8, 2], \"portugues\": [10, 10]},\n",
        "    'alberto': {'matematica': [3, 4], 'ingles': [9, 9], \"fisica\": [5, 3, 8]}\n",
        "    }"
      ],
      "metadata": {
        "id": "YAljKw6Wdccr"
      },
      "execution_count": null,
      "outputs": []
    },
    {
      "cell_type": "code",
      "source": [
        "## faça um programa que pra cada aluno imprime o nome e a media dele em cada materia e se ta aprovado ou não!\n",
        "for aluno, disciplinas in alunos.items():\n",
        "\n",
        "\n",
        "  print(f\"Nome: {aluno}\")\n",
        "  for nome_disciplina, notas in disciplinas.items():\n",
        "    media = sum(notas)/len(notas)\n",
        "\n",
        "    if media >= 5:\n",
        "      print(f\"\\t{nome_disciplina}: {media:.2f} -> Aprovado\")\n",
        "    else:\n",
        "       print(f\"\\t{nome_disciplina}: {media:.2f} -> Reprovado\")"
      ],
      "metadata": {
        "colab": {
          "base_uri": "https://localhost:8080/"
        },
        "id": "DZMkyzUZe_uc",
        "outputId": "1b3e5f66-8917-4fc2-8cfd-7540389ffab7"
      },
      "execution_count": null,
      "outputs": [
        {
          "output_type": "stream",
          "name": "stdout",
          "text": [
            "Nome: Guilherme\n",
            "\tmatematica: 7.50 -> Aprovado\n",
            "\tingles: 6.00 -> Aprovado\n",
            "Nome: Lais\n",
            "\tmatematica: 5.50 -> Aprovado\n",
            "\tingles: 5.00 -> Aprovado\n",
            "\tportugues: 10.00 -> Aprovado\n",
            "Nome: alberto\n",
            "\tmatematica: 3.50 -> Reprovado\n",
            "\tingles: 9.00 -> Aprovado\n",
            "\tfisica: 5.33 -> Aprovado\n"
          ]
        }
      ]
    },
    {
      "cell_type": "code",
      "source": [],
      "metadata": {
        "colab": {
          "base_uri": "https://localhost:8080/"
        },
        "id": "wOIpI-gJfeck",
        "outputId": "6c80a0ea-17a8-4afd-eb3c-523b298bbf60"
      },
      "execution_count": null,
      "outputs": [
        {
          "output_type": "execute_result",
          "data": {
            "text/plain": [
              "6"
            ]
          },
          "metadata": {},
          "execution_count": 111
        }
      ]
    },
    {
      "cell_type": "code",
      "source": [
        "def minha_funcao(entrada1 , entrada2, entrada3):\n",
        "  if entrada1 > entrada2:\n",
        "    if entrada3 > entrada1:\n",
        "      return entrada3\n",
        "    else:\n",
        "      return entrada1\n",
        "  else:\n",
        "    if entrada3 > entrada2:\n",
        "      return entrada3\n",
        "    else:\n",
        "     return entrada2\n",
        "\n",
        "\n"
      ],
      "metadata": {
        "id": "izKUgyjOjMtS"
      },
      "execution_count": null,
      "outputs": []
    },
    {
      "cell_type": "code",
      "source": [
        "minha_funcao(1, 3, 1)"
      ],
      "metadata": {
        "colab": {
          "base_uri": "https://localhost:8080/"
        },
        "id": "OKygnu6FlVT8",
        "outputId": "5206f427-3574-47f8-f221-10a04fca568b"
      },
      "execution_count": null,
      "outputs": [
        {
          "output_type": "execute_result",
          "data": {
            "text/plain": [
              "3"
            ]
          },
          "metadata": {},
          "execution_count": 114
        }
      ]
    },
    {
      "cell_type": "code",
      "source": [
        "minha_funcao(5, 8, -1)"
      ],
      "metadata": {
        "colab": {
          "base_uri": "https://localhost:8080/"
        },
        "id": "obBStHyilqhe",
        "outputId": "f04844a0-6ed4-4c37-ad23-d50aeedb276e"
      },
      "execution_count": null,
      "outputs": [
        {
          "output_type": "execute_result",
          "data": {
            "text/plain": [
              "8"
            ]
          },
          "metadata": {},
          "execution_count": 115
        }
      ]
    },
    {
      "cell_type": "code",
      "source": [
        "def eh_primo(numero):\n",
        "  for fator in range(2, numero//2+1):\n",
        "    if numero % fator == 0:\n",
        "      return False\n",
        "  return True"
      ],
      "metadata": {
        "id": "ZfCgycoHltQX"
      },
      "execution_count": null,
      "outputs": []
    },
    {
      "cell_type": "code",
      "source": [
        "eh_primo(7), eh_primo(8)"
      ],
      "metadata": {
        "colab": {
          "base_uri": "https://localhost:8080/"
        },
        "id": "E0k88knimsml",
        "outputId": "2873a1a4-2e3a-454a-da0a-77e6cdda52bc"
      },
      "execution_count": null,
      "outputs": [
        {
          "output_type": "execute_result",
          "data": {
            "text/plain": [
              "(True, False)"
            ]
          },
          "metadata": {},
          "execution_count": 121
        }
      ]
    },
    {
      "cell_type": "code",
      "source": [
        "for n in range(2,1000):\n",
        "  if eh_primo(n):\n",
        "    print(n)"
      ],
      "metadata": {
        "colab": {
          "base_uri": "https://localhost:8080/"
        },
        "id": "4ZwgC_f2nD7Z",
        "outputId": "a9f6b495-77c5-4ff1-fd4f-42fa4e91504b"
      },
      "execution_count": null,
      "outputs": [
        {
          "output_type": "stream",
          "name": "stdout",
          "text": [
            "2\n",
            "3\n",
            "5\n",
            "7\n",
            "11\n",
            "13\n",
            "17\n",
            "19\n",
            "23\n",
            "29\n",
            "31\n",
            "37\n",
            "41\n",
            "43\n",
            "47\n",
            "53\n",
            "59\n",
            "61\n",
            "67\n",
            "71\n",
            "73\n",
            "79\n",
            "83\n",
            "89\n",
            "97\n",
            "101\n",
            "103\n",
            "107\n",
            "109\n",
            "113\n",
            "127\n",
            "131\n",
            "137\n",
            "139\n",
            "149\n",
            "151\n",
            "157\n",
            "163\n",
            "167\n",
            "173\n",
            "179\n",
            "181\n",
            "191\n",
            "193\n",
            "197\n",
            "199\n",
            "211\n",
            "223\n",
            "227\n",
            "229\n",
            "233\n",
            "239\n",
            "241\n",
            "251\n",
            "257\n",
            "263\n",
            "269\n",
            "271\n",
            "277\n",
            "281\n",
            "283\n",
            "293\n",
            "307\n",
            "311\n",
            "313\n",
            "317\n",
            "331\n",
            "337\n",
            "347\n",
            "349\n",
            "353\n",
            "359\n",
            "367\n",
            "373\n",
            "379\n",
            "383\n",
            "389\n",
            "397\n",
            "401\n",
            "409\n",
            "419\n",
            "421\n",
            "431\n",
            "433\n",
            "439\n",
            "443\n",
            "449\n",
            "457\n",
            "461\n",
            "463\n",
            "467\n",
            "479\n",
            "487\n",
            "491\n",
            "499\n",
            "503\n",
            "509\n",
            "521\n",
            "523\n",
            "541\n",
            "547\n",
            "557\n",
            "563\n",
            "569\n",
            "571\n",
            "577\n",
            "587\n",
            "593\n",
            "599\n",
            "601\n",
            "607\n",
            "613\n",
            "617\n",
            "619\n",
            "631\n",
            "641\n",
            "643\n",
            "647\n",
            "653\n",
            "659\n",
            "661\n",
            "673\n",
            "677\n",
            "683\n",
            "691\n",
            "701\n",
            "709\n",
            "719\n",
            "727\n",
            "733\n",
            "739\n",
            "743\n",
            "751\n",
            "757\n",
            "761\n",
            "769\n",
            "773\n",
            "787\n",
            "797\n",
            "809\n",
            "811\n",
            "821\n",
            "823\n",
            "827\n",
            "829\n",
            "839\n",
            "853\n",
            "857\n",
            "859\n",
            "863\n",
            "877\n",
            "881\n",
            "883\n",
            "887\n",
            "907\n",
            "911\n",
            "919\n",
            "929\n",
            "937\n",
            "941\n",
            "947\n",
            "953\n",
            "967\n",
            "971\n",
            "977\n",
            "983\n",
            "991\n",
            "997\n"
          ]
        }
      ]
    },
    {
      "cell_type": "code",
      "source": [],
      "metadata": {
        "id": "VLZSB-LBnRcg"
      },
      "execution_count": null,
      "outputs": []
    }
  ]
}